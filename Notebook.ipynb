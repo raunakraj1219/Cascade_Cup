{
  "nbformat": 4,
  "nbformat_minor": 0,
  "metadata": {
    "colab": {
      "name": "Cascade_Cup.ipynb",
      "provenance": []
    },
    "kernelspec": {
      "name": "python3",
      "display_name": "Python 3"
    },
    "accelerator": "GPU"
  },
  "cells": [
    {
      "cell_type": "code",
      "metadata": {
        "id": "7UGc3j3BXGnS"
      },
      "source": [
        "\"\"\"i = []\n",
        "while True:\n",
        "  i.append(i)\"\"\""
      ],
      "execution_count": null,
      "outputs": []
    },
    {
      "cell_type": "code",
      "metadata": {
        "id": "RL_fWN1K22PQ"
      },
      "source": [
        "import pandas as pd\r\n",
        "import numpy as np\r\n",
        "from sklearn.model_selection import train_test_split\r\n",
        "from sklearn.metrics import accuracy_score, confusion_matrix\r\n",
        "import matplotlib.pyplot as plt"
      ],
      "execution_count": null,
      "outputs": []
    },
    {
      "cell_type": "code",
      "metadata": {
        "colab": {
          "base_uri": "https://localhost:8080/"
        },
        "id": "I6Dc6A1pZGTB",
        "outputId": "3ff52bb0-6cea-45fb-a5ba-8c1cadba4dc4"
      },
      "source": [
        "from google.colab import drive\n",
        "drive.mount('/content/drive')"
      ],
      "execution_count": null,
      "outputs": [
        {
          "output_type": "stream",
          "text": [
            "Mounted at /content/drive\n"
          ],
          "name": "stdout"
        }
      ]
    },
    {
      "cell_type": "code",
      "metadata": {
        "id": "DptZdDo0cDWa"
      },
      "source": [
        "df = pd.read_csv('/content/drive/My Drive/Cascade Cup/train_age_dataset.csv')\n",
        "df_test = pd.read_csv('/content/drive/My Drive/Cascade Cup/test_age_dataset.csv')\n",
        "#df_test = pd.read_csv('/content/drive/My Drive/Cascade Cup/test_age_dataset2.csv')"
      ],
      "execution_count": null,
      "outputs": []
    },
    {
      "cell_type": "code",
      "metadata": {
        "id": "LgieornlAOjm"
      },
      "source": [
        "df = pd.DataFrame(df)\n",
        "df_test = pd.DataFrame(df_test)"
      ],
      "execution_count": null,
      "outputs": []
    },
    {
      "cell_type": "code",
      "metadata": {
        "colab": {
          "base_uri": "https://localhost:8080/"
        },
        "id": "GwO_j7poDkPr",
        "outputId": "09d1bd10-f636-4289-e1d7-9224e324a103"
      },
      "source": [
        "print(df.shape)\r\n",
        "print(df_test.shape)"
      ],
      "execution_count": null,
      "outputs": [
        {
          "output_type": "stream",
          "text": [
            "(488877, 27)\n",
            "(54320, 26)\n"
          ],
          "name": "stdout"
        }
      ]
    },
    {
      "cell_type": "code",
      "metadata": {
        "colab": {
          "base_uri": "https://localhost:8080/"
        },
        "id": "nG729jzjNMqC",
        "outputId": "92b0011c-e017-4c5f-8c57-3192894dbe79"
      },
      "source": [
        "df.age_group.value_counts()"
      ],
      "execution_count": null,
      "outputs": [
        {
          "output_type": "execute_result",
          "data": {
            "text/plain": [
              "1    308315\n",
              "4     60803\n",
              "3     60404\n",
              "2     59355\n",
              "Name: age_group, dtype: int64"
            ]
          },
          "metadata": {
            "tags": []
          },
          "execution_count": 5
        }
      ]
    },
    {
      "cell_type": "code",
      "metadata": {
        "id": "bTQg3394Ao3j"
      },
      "source": [
        ""
      ],
      "execution_count": null,
      "outputs": []
    },
    {
      "cell_type": "code",
      "metadata": {
        "id": "rxxTpgVSpnv3",
        "colab": {
          "base_uri": "https://localhost:8080/"
        },
        "outputId": "55b4ad78-43d8-4e0b-862a-940e72f882d9"
      },
      "source": [
        "\"\"\"df1 = df[df['age_group']==1]\n",
        "df = df[df.age_group != 1]\n",
        "df1 = pd.DataFrame(df1)\n",
        "df1 = df1.iloc[:200000,:]\n",
        "df = df.append(df1, ignore_index=True)\n",
        "df.age_group.value_counts()\"\"\""
      ],
      "execution_count": null,
      "outputs": [
        {
          "output_type": "execute_result",
          "data": {
            "text/plain": [
              "1    200000\n",
              "4     60803\n",
              "3     60404\n",
              "2     59355\n",
              "Name: age_group, dtype: int64"
            ]
          },
          "metadata": {
            "tags": []
          },
          "execution_count": 7
        }
      ]
    },
    {
      "cell_type": "code",
      "metadata": {
        "id": "UutR9KlCNn8k"
      },
      "source": [
        "y = df.age_group\n",
        "x = df.copy()\n",
        "columns = ['Unnamed: 0','userId','age_group']\n",
        "#columns = ['Unnamed: 0','userId']\n",
        "x = x.drop(columns = columns)"
      ],
      "execution_count": null,
      "outputs": []
    },
    {
      "cell_type": "code",
      "metadata": {
        "id": "3Bi3lAxZOeum"
      },
      "source": [
        "x.head()"
      ],
      "execution_count": null,
      "outputs": []
    },
    {
      "cell_type": "code",
      "metadata": {
        "id": "v5TJUUQQO1pY"
      },
      "source": [
        "#Feature Scaling\n",
        "from sklearn.preprocessing import StandardScaler\n",
        "sc = StandardScaler()\n",
        "x = sc.fit_transform(x)\n",
        "x = pd.DataFrame(x)"
      ],
      "execution_count": null,
      "outputs": []
    },
    {
      "cell_type": "code",
      "metadata": {
        "id": "d6q6aW7B4RUv"
      },
      "source": [
        "import tensorflow as tf\n",
        "from tensorflow import keras\n",
        "from keras import utils"
      ],
      "execution_count": null,
      "outputs": []
    },
    {
      "cell_type": "code",
      "metadata": {
        "id": "mBX4pQPCaYRt"
      },
      "source": [
        "\"\"\"from sklearn.preprocessing import LabelEncoder\n",
        "encoder = LabelEncoder()\n",
        "encoder.fit(y)\n",
        "y = encoder.transform(y)\n",
        "num_classes = np.max(y) + 1\n",
        "y = utils.to_categorical(y, num_classes)\"\"\""
      ],
      "execution_count": null,
      "outputs": []
    },
    {
      "cell_type": "code",
      "metadata": {
        "id": "pEKwbQUJ5fm6"
      },
      "source": [
        ""
      ],
      "execution_count": null,
      "outputs": []
    },
    {
      "cell_type": "code",
      "metadata": {
        "id": "fFPbOwA6dIuE"
      },
      "source": [
        "#x_train, x_test, y_train, y_test = train_test_split(x, y, test_size=0.1, random_state = 42)\n",
        "x_train = x\n",
        "y_train =y"
      ],
      "execution_count": null,
      "outputs": []
    },
    {
      "cell_type": "code",
      "metadata": {
        "id": "Qy4oLDLfCjyt"
      },
      "source": [
        "x_train1 = x_train.iloc[:100000,:]\r\n",
        "x_train2 = x_train.iloc[100000:200000,:]\r\n",
        "x_train3 = x_train.iloc[200000:300000,:]\r\n",
        "x_train4 = x_train.iloc[300000:400000,:]\r\n",
        "x_train5 = x_train.iloc[400000:,:]\r\n",
        "\r\n",
        "y_train1 = y_train.iloc[:100000]\r\n",
        "y_train2 = y_train.iloc[100000:200000]\r\n",
        "y_train3 = y_train.iloc[200000:300000]\r\n",
        "y_train4 = y_train.iloc[300000:400000]\r\n",
        "y_train5 = y_train.iloc[400000:]"
      ],
      "execution_count": null,
      "outputs": []
    },
    {
      "cell_type": "code",
      "metadata": {
        "id": "LLWMdWMbLwxL"
      },
      "source": [
        "from keras.models import Sequential\n",
        "from keras.layers import Dense, Activation, Dropout, LSTM\n",
        "from keras.layers.embeddings import Embedding "
      ],
      "execution_count": null,
      "outputs": []
    },
    {
      "cell_type": "code",
      "metadata": {
        "id": "wVCbYaZ_E0sT"
      },
      "source": [
        ""
      ],
      "execution_count": null,
      "outputs": []
    },
    {
      "cell_type": "code",
      "metadata": {
        "id": "amSWOEjYLw0t"
      },
      "source": [
        "batch_size = 512\n",
        "epochs = 100\n",
        "\n",
        "# Build the model\n",
        "model = Sequential()\n",
        "model.add(Dense(512))\n",
        "model.add(Activation('tanh'))\n",
        "#model.add(Dense(512))\n",
        "#model.add(Activation('tanh'))\n",
        "#model.add(LSTM(512))\n",
        "#model.add(Dropout(0.5))\n",
        "#model.add(Dense(512))\n",
        "#model.add(Activation('tanh'))\n",
        "#model.add(Dropout(0.5))\n",
        "#model.add(Dense(512))\n",
        "#model.add(Activation('sigmoid'))\n",
        "#model.add(Dense(512))\n",
        "#model.add(Activation('tanh'))\n",
        "model.add(Dropout(0.5))\n",
        "model.add(Dense(5))\n",
        "model.add(Activation('softmax'))\n",
        "\n",
        "model.compile(loss='sparse_categorical_crossentropy',\n",
        "              optimizer='adam',\n",
        "              metrics=['accuracy'])\n",
        "              \n",
        "history = model.fit(x_train, y_train,\n",
        "                    batch_size=batch_size,\n",
        "                    epochs=epochs,\n",
        "                    verbose=1,\n",
        "                    validation_split=0.1)"
      ],
      "execution_count": null,
      "outputs": []
    },
    {
      "cell_type": "code",
      "metadata": {
        "id": "_1A14G-LktbM"
      },
      "source": [
        "\"\"\"    GRADIENT BOOSTING    \"\"\"\n",
        "\n",
        "# Fitting Gradient Boosting classifier to the training set\n",
        "from sklearn.ensemble import GradientBoostingClassifier\n",
        "classifier = GradientBoostingClassifier(n_estimators = 2000, learning_rate = 1.0, max_depth=4, max_leaf_nodes=4, random_state=42)\n",
        "classifier.fit(x_train, y_train)\n"
      ],
      "execution_count": null,
      "outputs": []
    },
    {
      "cell_type": "code",
      "metadata": {
        "id": "acM_XvdGkxaZ"
      },
      "source": [
        "# feature importance\n",
        "#feature_imp = classifier.feature_importances_\n",
        "fea_imp = pd.Series(classifier.feature_importances_,x_train.columns)\n",
        "fea_imp"
      ],
      "execution_count": null,
      "outputs": []
    },
    {
      "cell_type": "code",
      "metadata": {
        "id": "mM7t9jFX0PAR"
      },
      "source": [
        "\"\"\"KNN\"\"\"\n",
        "from sklearn.neighbors import KNeighborsClassifier\n",
        "classifier=KNeighborsClassifier()\n",
        "classifier.fit(x_train,y_train)"
      ],
      "execution_count": null,
      "outputs": []
    },
    {
      "cell_type": "code",
      "metadata": {
        "id": "OeSyPGxASkSJ"
      },
      "source": [
        "!pip install pytorch-tabnet"
      ],
      "execution_count": null,
      "outputs": []
    },
    {
      "cell_type": "code",
      "metadata": {
        "id": "z9NvXc7XSo_v"
      },
      "source": [
        "\r\n",
        "import torch\r\n",
        "from pytorch_tabnet.tab_model import TabNetClassifier\r\n",
        "classifier = TabNetClassifier()\r\n",
        "classifier.fit(x_train,y_train)"
      ],
      "execution_count": null,
      "outputs": []
    },
    {
      "cell_type": "code",
      "metadata": {
        "id": "LmXZeSI_04R3"
      },
      "source": [
        "\r\n",
        "import torch\r\n",
        "from pytorch_tabnet.tab_model import TabNetClassifier\r\n",
        "classifier = TabNetClassifier()\r\n",
        "classifier.fit(x_train,y_train,\r\n",
        "              weights=1,\r\n",
        "              max_epochs=10,patience=7, \r\n",
        "              batch_size=2048, virtual_batch_size=512,\r\n",
        "              num_workers=0,drop_last=False)"
      ],
      "execution_count": null,
      "outputs": []
    },
    {
      "cell_type": "code",
      "metadata": {
        "id": "2d5Y9H1VfYyy"
      },
      "source": [
        "from sklearn.pipeline import make_pipeline\r\n",
        "from sklearn.svm import SVC\r\n",
        "classifier = make_pipeline(StandardScaler(), SVC(gamma='auto'))\r\n",
        "classifier.fit(x_train, y_train)"
      ],
      "execution_count": null,
      "outputs": []
    },
    {
      "cell_type": "code",
      "metadata": {
        "colab": {
          "base_uri": "https://localhost:8080/"
        },
        "id": "aGC2KzRAB_m6",
        "outputId": "a9d9e6c7-7300-43ec-82f8-25fb5a5d48e8"
      },
      "source": [
        "y_train.shape"
      ],
      "execution_count": null,
      "outputs": [
        {
          "output_type": "execute_result",
          "data": {
            "text/plain": [
              "(488877,)"
            ]
          },
          "metadata": {
            "tags": []
          },
          "execution_count": 8
        }
      ]
    },
    {
      "cell_type": "code",
      "metadata": {
        "id": "GUButjsVCJ8G"
      },
      "source": [
        ""
      ],
      "execution_count": null,
      "outputs": []
    },
    {
      "cell_type": "code",
      "metadata": {
        "id": "cp3ky3xJvQgQ"
      },
      "source": [
        "#Fitting Random Forest Classification to the training Set\r\n",
        "from sklearn.ensemble import RandomForestClassifier\r\n",
        "classifier = RandomForestClassifier(n_estimators = 3000 , criterion = 'entropy', random_state = 42, max_depth=100, max_features=6, min_samples_split=10, min_samples_leaf=5)\r\n",
        "classifier.fit(x_train1 , y_train1)\r\n",
        "classifier.fit(x_train2 , y_train2)\r\n",
        "classifier.fit(x_train3 , y_train3)\r\n",
        "classifier.fit(x_train4 , y_train4)\r\n",
        "classifier.fit(x_train5 , y_train5)"
      ],
      "execution_count": null,
      "outputs": []
    },
    {
      "cell_type": "code",
      "metadata": {
        "colab": {
          "base_uri": "https://localhost:8080/"
        },
        "id": "FuBrDWbgG26h",
        "outputId": "070008fb-f8e9-48eb-f552-d6b9e4023833"
      },
      "source": [
        "from lightgbm import LGBMClassifier\r\n",
        "classifier = LGBMClassifier(n_estimators = 5000, learning_rate=1 , criterion = 'entropy', random_state = 42, max_depth=5, max_features=5, min_samples_split=5, min_samples_leaf=5)\r\n",
        "classifier.fit(x_train1 , y_train1)\r\n",
        "classifier.fit(x_train2 , y_train2)\r\n",
        "classifier.fit(x_train3 , y_train3)\r\n",
        "classifier.fit(x_train4 , y_train4)\r\n",
        "classifier.fit(x_train5 , y_train5)"
      ],
      "execution_count": null,
      "outputs": [
        {
          "output_type": "execute_result",
          "data": {
            "text/plain": [
              "LGBMClassifier(boosting_type='gbdt', class_weight=None, colsample_bytree=1.0,\n",
              "               criterion='entropy', importance_type='split', learning_rate=1,\n",
              "               max_depth=5, max_features=5, min_child_samples=20,\n",
              "               min_child_weight=0.001, min_samples_leaf=5, min_samples_split=5,\n",
              "               min_split_gain=0.0, n_estimators=5000, n_jobs=-1, num_leaves=31,\n",
              "               objective=None, random_state=42, reg_alpha=0.0, reg_lambda=0.0,\n",
              "               silent=True, subsample=1.0, subsample_for_bin=200000,\n",
              "               subsample_freq=0)"
            ]
          },
          "metadata": {
            "tags": []
          },
          "execution_count": 22
        }
      ]
    },
    {
      "cell_type": "code",
      "metadata": {
        "colab": {
          "base_uri": "https://localhost:8080/",
          "height": 312
        },
        "id": "QFnGX-XSLw3K",
        "outputId": "4e5016e4-4bf5-45c8-f6bb-b190cc14d208"
      },
      "source": [
        "plt.figure()\n",
        "plt.plot(history.history['accuracy'])\n",
        "plt.title('Model Accuracy')\n",
        "plt.xlabel('No. of Epochs')\n",
        "plt.ylabel('Accuracy')"
      ],
      "execution_count": null,
      "outputs": [
        {
          "output_type": "execute_result",
          "data": {
            "text/plain": [
              "Text(0, 0.5, 'Accuracy')"
            ]
          },
          "metadata": {
            "tags": []
          },
          "execution_count": 53
        },
        {
          "output_type": "display_data",
          "data": {
            "image/png": "[encoded data removed]",
            "text/plain": [
              "<Figure size 432x288 with 1 Axes>"
            ]
          },
          "metadata": {
            "tags": [],
            "needs_background": "light"
          }
        }
      ]
    },
    {
      "cell_type": "code",
      "metadata": {
        "colab": {
          "base_uri": "https://localhost:8080/",
          "height": 312
        },
        "id": "QIQjKGNHLw5q",
        "outputId": "982ccbb2-0480-4671-968f-3308781ea612"
      },
      "source": [
        "plt.figure()\n",
        "plt.plot(history.history['loss'])\n",
        "plt.title('Model Loss')\n",
        "plt.xlabel('No. of Epochs')\n",
        "plt.ylabel('Loss')"
      ],
      "execution_count": null,
      "outputs": [
        {
          "output_type": "execute_result",
          "data": {
            "text/plain": [
              "Text(0, 0.5, 'Loss')"
            ]
          },
          "metadata": {
            "tags": []
          },
          "execution_count": 54
        },
        {
          "output_type": "display_data",
          "data": {
            "image/png": "[encoded data removed]",
            "text/plain": [
              "<Figure size 432x288 with 1 Axes>"
            ]
          },
          "metadata": {
            "tags": [],
            "needs_background": "light"
          }
        }
      ]
    },
    {
      "cell_type": "code",
      "metadata": {
        "colab": {
          "base_uri": "https://localhost:8080/"
        },
        "id": "uEBOqN47Lw8P",
        "outputId": "d24debda-920e-4281-d488-717755abd624"
      },
      "source": [
        "y_pred = model.predict_classes(x_test)\n",
        "#y_pred = np.argmax(model.predict(x_test), axis=-1)"
      ],
      "execution_count": null,
      "outputs": [
        {
          "output_type": "stream",
          "text": [
            "WARNING:tensorflow:From <ipython-input-16-7364f06111e1>:1: Sequential.predict_classes (from tensorflow.python.keras.engine.sequential) is deprecated and will be removed after 2021-01-01.\n",
            "Instructions for updating:\n",
            "Please use instead:* `np.argmax(model.predict(x), axis=-1)`,   if your model does multi-class classification   (e.g. if it uses a `softmax` last-layer activation).* `(model.predict(x) > 0.5).astype(\"int32\")`,   if your model does binary classification   (e.g. if it uses a `sigmoid` last-layer activation).\n"
          ],
          "name": "stdout"
        }
      ]
    },
    {
      "cell_type": "code",
      "metadata": {
        "id": "2GgHGYrhYVRL"
      },
      "source": [
        "y_pred = pd.DataFrame(y_pred)\n",
        "y_pred.head(5)"
      ],
      "execution_count": null,
      "outputs": []
    },
    {
      "cell_type": "code",
      "metadata": {
        "id": "Xg-uYPdBkg9W"
      },
      "source": [
        "y_pred.value_counts()"
      ],
      "execution_count": null,
      "outputs": []
    },
    {
      "cell_type": "code",
      "metadata": {
        "id": "Ktrsgr4BLw_A"
      },
      "source": [
        "print(accuracy_score(y_pred, y_test))"
      ],
      "execution_count": null,
      "outputs": []
    },
    {
      "cell_type": "code",
      "metadata": {
        "id": "jPjlNmmzy4Gc"
      },
      "source": [
        "from sklearn.metrics import classification_report\n",
        "print(classification_report(y_test, y_pred))"
      ],
      "execution_count": null,
      "outputs": []
    },
    {
      "cell_type": "code",
      "metadata": {
        "id": "U1OY2j9U7lef"
      },
      "source": [
        ""
      ],
      "execution_count": null,
      "outputs": []
    },
    {
      "cell_type": "code",
      "metadata": {
        "id": "vsB5V223DtL7"
      },
      "source": [
        ""
      ],
      "execution_count": null,
      "outputs": []
    },
    {
      "cell_type": "code",
      "metadata": {
        "id": "2ovQn8vZYMkQ"
      },
      "source": [
        "x_test1 = df_test.copy()\n",
        "columns = ['Unnamed: 0','userId']\n",
        "#columns = ['Unnamed: 0','userId','Unnamed: 27']\n",
        "x_test1 = x_test1.drop(columns = columns)\n",
        "#Feature Scaling\n",
        "sc = StandardScaler()\n",
        "x_test1 = sc.fit_transform(x_test1)\n",
        "x_test1 = pd.DataFrame(x_test1)"
      ],
      "execution_count": null,
      "outputs": []
    },
    {
      "cell_type": "code",
      "metadata": {
        "id": "9RGKHiqd_hTx"
      },
      "source": [
        "x_test1.head()"
      ],
      "execution_count": null,
      "outputs": []
    },
    {
      "cell_type": "code",
      "metadata": {
        "id": "8Cc2UFsn_s0o"
      },
      "source": [
        "x_test.head()"
      ],
      "execution_count": null,
      "outputs": []
    },
    {
      "cell_type": "code",
      "metadata": {
        "id": "6briOr0d9U93"
      },
      "source": [
        "#y_pred1 = model.predict_classes(x_test1)\n",
        "y_pred1 = classifier.predict(x_test1)\n",
        "y_pred1 = pd.DataFrame(y_pred1)\n"
      ],
      "execution_count": null,
      "outputs": []
    },
    {
      "cell_type": "code",
      "metadata": {
        "id": "880ICLV39sez"
      },
      "source": [
        "res = pd.DataFrame(y_pred1)\n",
        "res.columns = [\"prediction\"]\n",
        "res.to_csv(\"18.csv\")"
      ],
      "execution_count": null,
      "outputs": []
    },
    {
      "cell_type": "code",
      "metadata": {
        "id": "e_VPVkoL_90Q",
        "colab": {
          "base_uri": "https://localhost:8080/"
        },
        "outputId": "8832ea10-481f-429a-bf4b-38dc08fc3d31"
      },
      "source": [
        "y_pred1.value_counts()"
      ],
      "execution_count": null,
      "outputs": [
        {
          "output_type": "execute_result",
          "data": {
            "text/plain": [
              "prediction\n",
              "1             40152\n",
              "2              7258\n",
              "4              4322\n",
              "3              2588\n",
              "dtype: int64"
            ]
          },
          "metadata": {
            "tags": []
          },
          "execution_count": 25
        }
      ]
    },
    {
      "cell_type": "code",
      "metadata": {
        "id": "rudu-Uof5fDO"
      },
      "source": [
        ""
      ],
      "execution_count": null,
      "outputs": []
    }
  ]
}